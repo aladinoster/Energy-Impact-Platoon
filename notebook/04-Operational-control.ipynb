{
 "cells": [
  {
   "cell_type": "markdown",
   "metadata": {},
   "source": [
    "### Control law \n",
    "\n",
    "This notebook emulates a control laws where a set of 8 trucks are commanded to split at specific points in time. References to compute the platoon are in this case simulated not by a tactical strategy but virtually instead:\n",
    "\n",
    "0. Setup model parameters (CAV)\n",
    "1. Initial conditions for the model \n",
    "2. Reference conditions for the truck \n",
    "3. Launching the simulations for "
   ]
  },
  {
   "cell_type": "code",
   "execution_count": 1,
   "metadata": {},
   "outputs": [
    {
     "data": {
      "text/html": [
       "<script>requirejs.config({paths: { 'plotly': ['https://cdn.plot.ly/plotly-latest.min']},});if(!window.Plotly) {{require(['plotly'],function(plotly) {window.Plotly=plotly;});}}</script>"
      ],
      "text/vnd.plotly.v1+html": [
       "<script>requirejs.config({paths: { 'plotly': ['https://cdn.plot.ly/plotly-latest.min']},});if(!window.Plotly) {{require(['plotly'],function(plotly) {window.Plotly=plotly;});}}</script>"
      ]
     },
     "metadata": {},
     "output_type": "display_data"
    },
    {
     "data": {
      "application/vnd.plotly.v1+json": {
       "data": [
        {
         "type": "scatter",
         "uid": "c9ff6b6e-9343-11e8-8be4-8438354e6188",
         "x": [
          1,
          2,
          3
         ],
         "y": [
          3,
          1,
          6
         ]
        }
       ],
       "layout": {
        "autosize": true,
        "xaxis": {
         "autorange": true,
         "range": [
          0.8571428571428572,
          3.142857142857143
         ],
         "type": "linear"
        },
        "yaxis": {
         "autorange": true,
         "range": [
          0.6385542168674698,
          6.36144578313253
         ],
         "type": "linear"
        }
       }
      },
      "text/html": [
       "<div id=\"0bad9847-a85a-40bd-a1c9-33f5abec9a2f\" style=\"height: 525px; width: 100%;\" class=\"plotly-graph-div\"></div><script type=\"text/javascript\">require([\"plotly\"], function(Plotly) { window.PLOTLYENV=window.PLOTLYENV || {};window.PLOTLYENV.BASE_URL=\"https://plot.ly\";Plotly.newPlot(\"0bad9847-a85a-40bd-a1c9-33f5abec9a2f\", [{\"x\": [1, 2, 3], \"y\": [3, 1, 6], \"type\": \"scatter\", \"uid\": \"cdb99e64-9343-11e8-bfc6-8438354e6188\"}], {}, {\"showLink\": true, \"linkText\": \"Export to plot.ly\"})});</script>"
      ],
      "text/vnd.plotly.v1+html": [
       "<div id=\"0bad9847-a85a-40bd-a1c9-33f5abec9a2f\" style=\"height: 525px; width: 100%;\" class=\"plotly-graph-div\"></div><script type=\"text/javascript\">require([\"plotly\"], function(Plotly) { window.PLOTLYENV=window.PLOTLYENV || {};window.PLOTLYENV.BASE_URL=\"https://plot.ly\";Plotly.newPlot(\"0bad9847-a85a-40bd-a1c9-33f5abec9a2f\", [{\"x\": [1, 2, 3], \"y\": [3, 1, 6], \"type\": \"scatter\", \"uid\": \"cdb99e64-9343-11e8-bfc6-8438354e6188\"}], {}, {\"showLink\": true, \"linkText\": \"Export to plot.ly\"})});</script>"
      ]
     },
     "metadata": {},
     "output_type": "display_data"
    }
   ],
   "source": [
    "# %%writefile control.py\n",
    "import numpy as np \n",
    "import pandas as pd \n",
    "\n",
    "# Plot \n",
    "import matplotlib.pyplot as plt \n",
    "\n",
    "import plotly.plotly as py\n",
    "from plotly.offline import init_notebook_mode, plot, iplot, iplot_mpl\n",
    "import plotly.graph_objs as go \n",
    "init_notebook_mode(connected=True)\n",
    "\n",
    "\n",
    "from ipywidgets import interactive, widgets\n",
    "from IPython.display import display\n",
    "\n",
    "iplot([{\"x\": [1, 2, 3], \"y\": [3, 1, 6]}])"
   ]
  },
  {
   "cell_type": "markdown",
   "metadata": {},
   "source": [
    "#### Parameters\n",
    "\n",
    "Simulation parameters"
   ]
  },
  {
   "cell_type": "code",
   "execution_count": 2,
   "metadata": {},
   "outputs": [],
   "source": [
    "# %%writefile -a control.py\n",
    "DT = 0.1 # Sample time "
   ]
  },
  {
   "cell_type": "markdown",
   "metadata": {},
   "source": [
    "Traffic parameters"
   ]
  },
  {
   "cell_type": "code",
   "execution_count": 3,
   "metadata": {},
   "outputs": [],
   "source": [
    "# %%writefile -a control.py\n",
    "\n",
    "# Truck parameters \n",
    "L_AVG = 18\n",
    "G_X = 2\n",
    "S_X = G_X + L_AVG\n",
    "K_X = 1/S_X\n",
    "\n",
    "# Physics\n",
    "G = 9.81\n",
    "MU = 0.02\n",
    "M = 44.000\n",
    "RHO = 1.2\n",
    "A = 10 \n",
    "CD = 0.7\n",
    "\n",
    "# Traffic \n",
    "V_F = 25.0 # Max speed.\n",
    "V_P = 20.0 # Platoon free flow\n",
    "E  = 25.0*0.3 # Speed drop for relaxation \n",
    "\n",
    "U_MAX = 1.5 # Max. Acceleration\n",
    "U_MIN = -1.5 # Min. Acceleration"
   ]
  },
  {
   "cell_type": "markdown",
   "metadata": {},
   "source": [
    "Fundamental diagram settings, interactively done to illustrate behavior of influence of front-rear spacing `G_X` and capacity `C`"
   ]
  },
  {
   "cell_type": "code",
   "execution_count": 4,
   "metadata": {},
   "outputs": [
    {
     "data": {
      "application/vnd.jupyter.widget-view+json": {
       "model_id": "10d1979c0c9c43f5be42e1970ae24428",
       "version_major": 2,
       "version_minor": 0
      },
      "text/plain": [
       "interactive(children=(FloatSlider(value=5.0, description='Front-rear Space gap', max=17.9, min=2.0, readout_fo…"
      ]
     },
     "metadata": {},
     "output_type": "display_data"
    }
   ],
   "source": [
    "# %%writefile -a control.py\n",
    "\n",
    "def compute_parameters(G_X, C):\n",
    "    \"\"\" Compute dynamically parameters based on G_X,C\"\"\"\n",
    "    S_X = L_AVG + G_X \n",
    "    K_X = 1 / S_X        \n",
    "    K_C = C / V_P    \n",
    "    W  = C / (K_X - K_C)\n",
    "    return (S_X, K_X, K_C, W)\n",
    "\n",
    "\n",
    "def compute_FD(G_X, C):\n",
    "    \"\"\"Compute data for some predefined parameters \"\"\"\n",
    "    \n",
    "    def compute_FD(k):\n",
    "        \"\"\"Compute k,q vector: Piecewise FD\"\"\"\n",
    "        free_branch = lambda x: V_P * x\n",
    "        cong_branch = lambda x: - (x-K_X) * W\n",
    "        flow = np.piecewise(k, [k < K_C, k >= K_C], [free_branch, cong_branch])\n",
    "        \n",
    "        return flow    \n",
    "    \n",
    "    S_X, K_X, K_C, W  = compute_parameters(G_X, C)\n",
    "    \n",
    "    k = np.linspace(0, K_X, 100)\n",
    "    q = compute_FD(k)\n",
    "    return (k,q)\n",
    "\n",
    "def create_layout(K_X, C):\n",
    "    \"\"\" Create figure layout \"\"\"\n",
    "    layout = go.Layout(title = 'FUNDAMENTAL DIAGRAM',\n",
    "                       yaxis = dict(title = 'Q',\n",
    "                                    range = [0, C],\n",
    "                                   ),\n",
    "                       xaxis = dict(title = 'k', \n",
    "                                    range = [0, K_X],\n",
    "                                   ),\n",
    "                       width = 600, \n",
    "                       height = 600,\n",
    "                    )\n",
    "    return layout\n",
    "\n",
    "layout = create_layout(0.05, 1 * 3600)\n",
    "    \n",
    "def update_plot(fr_space, capacity):\n",
    "    \"\"\" Update plot within the figure\"\"\"    \n",
    "    \n",
    "    k, q = compute_FD(fr_space, capacity/3600)\n",
    "    \n",
    "\n",
    "    \n",
    "    data = []        \n",
    "    \n",
    "    trace = go.Scatter(\n",
    "        x = k, \n",
    "        y = q * 3600,\n",
    "        mode = 'lines',\n",
    "        name = 'Fundamental diagram',\n",
    "        line = dict(\n",
    "            shape = 'spline'\n",
    "        )\n",
    "    )\n",
    "\n",
    "    data.append(trace)\n",
    "    \n",
    "    fig = go.Figure(data = data, layout = layout)\n",
    "    iplot(fig)\n",
    "    \n",
    "\n",
    "G_X_wg = widgets.FloatSlider(\n",
    "        value=5,\n",
    "        min=2,\n",
    "        max=L_AVG-0.1,\n",
    "        step=0.1,\n",
    "        description='Front-rear Space gap',\n",
    "        disabled=False,\n",
    "        continuous_update=True,\n",
    "        orientation='horizontal',\n",
    "        readout=True,\n",
    "        readout_format='.1f',\n",
    "        )\n",
    "\n",
    "C_wg  = widgets.FloatSlider(\n",
    "        value=2400,\n",
    "        min=1800,\n",
    "        max=3600-10,\n",
    "        step=5,\n",
    "        description='Capacity',\n",
    "        disabled=False,\n",
    "        continuous_update=True,\n",
    "        orientation='horizontal',\n",
    "        readout=True,\n",
    "        readout_format='.1f',\n",
    "        )\n",
    "\n",
    "\n",
    "interactive(update_plot, fr_space = G_X_wg, capacity = C_wg)"
   ]
  },
  {
   "cell_type": "code",
   "execution_count": 5,
   "metadata": {},
   "outputs": [
    {
     "data": {
      "application/vnd.jupyter.widget-view+json": {
       "model_id": "99e0abd574e6472da134efa80bc7a482",
       "version_major": 2,
       "version_minor": 0
      },
      "text/plain": [
       "BoundedFloatText(value=0.35, description='Tau:', disabled=True, max=10.0, step=0.1)"
      ]
     },
     "metadata": {},
     "output_type": "display_data"
    },
    {
     "data": {
      "application/vnd.jupyter.widget-view+json": {
       "model_id": "43760452bbac48688160099c89db8b52",
       "version_major": 2,
       "version_minor": 0
      },
      "text/plain": [
       "BoundedFloatText(value=1.5, description='Rate:', disabled=True, max=10.0, step=0.1)"
      ]
     },
     "metadata": {},
     "output_type": "display_data"
    },
    {
     "data": {
      "application/vnd.jupyter.widget-view+json": {
       "model_id": "ebf453759ea74a7582568afc8c80dfc1",
       "version_major": 2,
       "version_minor": 0
      },
      "text/plain": [
       "BoundedFloatText(value=0.6, description='Inter (t):', disabled=True, max=10.0, step=0.1)"
      ]
     },
     "metadata": {},
     "output_type": "display_data"
    },
    {
     "data": {
      "application/vnd.jupyter.widget-view+json": {
       "model_id": "0510eff592c941aa9fd022a7f2b7230b",
       "version_major": 2,
       "version_minor": 0
      },
      "text/plain": [
       "BoundedFloatText(value=12.0, description='Inter (x):', disabled=True, max=30.0, step=0.1)"
      ]
     },
     "metadata": {},
     "output_type": "display_data"
    }
   ],
   "source": [
    "# %%writefile -a control.py\n",
    "\n",
    "G_X, C = G_X_wg.value, C_wg.value/3600\n",
    "S_X, K_X, K_C, W  = compute_parameters(G_X, C)\n",
    "\n",
    "TAU = 1/(K_X*W) # Time headway CAV \n",
    "RTE = TAU * (V_P+W) / V_P\n",
    "\n",
    "# At capacity \n",
    "K = C/V_P\n",
    "S_D = 1/K-L_AVG\n",
    "G_T = S_D/V_P\n",
    "\n",
    "Tau_wg = widgets.BoundedFloatText(\n",
    "    value=TAU,\n",
    "    min=0,\n",
    "    max=10.0,\n",
    "    step=0.1,\n",
    "    description='Tau:',\n",
    "    disabled=True\n",
    ")\n",
    "Rat_wg = widgets.BoundedFloatText(\n",
    "    value=RTE,\n",
    "    min=0,\n",
    "    max=10.0,\n",
    "    step=0.1,\n",
    "    description='Rate:',\n",
    "    disabled=True\n",
    ")\n",
    "gt_wg = widgets.BoundedFloatText(\n",
    "    value=G_T,\n",
    "    min=0,\n",
    "    max=10.0,\n",
    "    step=0.1,\n",
    "    description='Inter (t):',\n",
    "    disabled=True\n",
    ")\n",
    "\n",
    "gx_wg = widgets.BoundedFloatText(\n",
    "    value=S_D,\n",
    "    min=0,\n",
    "    max=30.0,\n",
    "    step=0.1,\n",
    "    description='Inter (x):',\n",
    "    disabled=True\n",
    ")\n",
    "\n",
    "display(Tau_wg)\n",
    "display(Rat_wg)\n",
    "display(gt_wg)\n",
    "display(gx_wg)"
   ]
  },
  {
   "cell_type": "code",
   "execution_count": 6,
   "metadata": {},
   "outputs": [],
   "source": [
    "# %%writefile -a control.py\n",
    "fSimTime = 10 * 60 # seconds\n",
    "nSamples = int(fSimTime*1/DT)\n",
    "aTime = np.arange(nSamples)*DT\n",
    "\n",
    "nHorizon = 50 # samples horizon"
   ]
  },
  {
   "cell_type": "markdown",
   "metadata": {},
   "source": [
    "#### Initial conditions for the trucks "
   ]
  },
  {
   "cell_type": "code",
   "execution_count": 7,
   "metadata": {},
   "outputs": [],
   "source": [
    "# %%writefile -a control.py\n",
    "\n",
    "nTrucks = 4\n",
    "aDims = (nSamples, nTrucks)"
   ]
  },
  {
   "cell_type": "markdown",
   "metadata": {},
   "source": [
    "State initialization, space, speed, delta speed leader "
   ]
  },
  {
   "cell_type": "code",
   "execution_count": 8,
   "metadata": {},
   "outputs": [],
   "source": [
    "# %%writefile -a control.py\n",
    "\n",
    "def set_initial_condition(mS0, mV0, mDV0):\n",
    "    \"\"\" Setup initial conditions of experiment\"\"\"\n",
    "    mS = np.zeros(aDims) # Spacing all trucks\n",
    "    mV = np.zeros(aDims) # Speed \n",
    "    mDV = np.zeros(aDims) # Speed diference\n",
    "    mS[0,:] = mS0\n",
    "    mV[0,:] = mV0\n",
    "    mDV[0,:]= mDV0\n",
    "    return (mS, mV, mDV)"
   ]
  },
  {
   "cell_type": "code",
   "execution_count": 9,
   "metadata": {},
   "outputs": [],
   "source": [
    "# %%writefile -a control.py\n",
    "mS0 = np.ones(nTrucks) * (S_D + L_AVG) \n",
    "mV0 = np.ones(nTrucks) * V_P\n",
    "mDV0 = np.zeros(nTrucks)\n",
    "\n",
    "mS, mV, mDV = set_initial_condition(mS0, mV0, mDV0)"
   ]
  },
  {
   "cell_type": "markdown",
   "metadata": {},
   "source": [
    "#### Reference conditions for trucks\n"
   ]
  },
  {
   "cell_type": "code",
   "execution_count": 16,
   "metadata": {},
   "outputs": [
    {
     "data": {
      "text/plain": [
       "[{'id': 1, 'tm': 180.0, 'tg': (0.6, 1.2)},\n",
       " {'id': 1, 'tm': 180.0, 'tg': (0.6, 1.7999999999999998)},\n",
       " {'id': 1, 'tm': 180.0, 'tg': (0.6, 2.4)},\n",
       " {'id': 2, 'tm': 180.0, 'tg': (0.6, 1.2)},\n",
       " {'id': 2, 'tm': 180.0, 'tg': (0.6, 1.7999999999999998)},\n",
       " {'id': 2, 'tm': 180.0, 'tg': (0.6, 2.4)},\n",
       " {'id': 3, 'tm': 180.0, 'tg': (0.6, 1.2)},\n",
       " {'id': 3, 'tm': 180.0, 'tg': (0.6, 1.7999999999999998)},\n",
       " {'id': 3, 'tm': 180.0, 'tg': (0.6, 2.4)}]"
      ]
     },
     "execution_count": 16,
     "metadata": {},
     "output_type": "execute_result"
    }
   ],
   "source": [
    "# %%writefile -a control.py \n",
    "\n",
    "iYieldTruck = range(1, nTrucks)\n",
    "\n",
    "# Splits are predefined at some specific points in time (merging times)\n",
    "iIdxTimeSplit = [int(t*60*1/DT) for t in (3,)]\n",
    "fTimeSplit = [aTime[i] for i in iIdxTimeSplit ]\n",
    "fValueTimeHwyInitial = [G_T, G_T, G_T]\n",
    "fValueTimeHwyEnd = [2*G_T, 3*G_T, 4*G_T]\n",
    "fValueTimeHwy = [(st,ed) for st, ed in zip(fValueTimeHwyInitial,fValueTimeHwyEnd)]\n",
    "\n",
    "\n",
    "mEvents = [{'id':i, 'tm': tm, 'tg': tg}  for tm in fTimeSplit for i in iYieldTruck for tg in fValueTimeHwy]\n",
    "mEvents"
   ]
  },
  {
   "cell_type": "markdown",
   "metadata": {},
   "source": [
    "To do:\n",
    "\n",
    "* Create a scenario (2 splits and reintegrations)  - Func\n",
    "* Run a single simulation Func( initial_cond, leaders_acc, theta) "
   ]
  },
  {
   "cell_type": "code",
   "execution_count": 18,
   "metadata": {},
   "outputs": [],
   "source": [
    "# %%writefile -a control.py \n",
    "\n",
    "def create_ref(dEvent, Teq):\n",
    "    \"\"\"Creates a reference matrix for the control\"\"\"\n",
    "    \n",
    "    def anticipation_time(T_0, T_F):\n",
    "        \"\"\"Computes the anticipation time according to TRB 2018\"\"\"\n",
    "        T_a = E / 2 * (U_MIN-U_MAX)/ (U_MIN * U_MAX) + (V_P + W) / E * (T_F - T_0)\n",
    "        return T_a    \n",
    "    \n",
    "    def get_sigmoid(v0, vf, yld, ant):\n",
    "        \"\"\" Computes a sigmoid function with rise time equivalent to anticipation time\"\"\"\n",
    "        aNewTime = 8 * (aTime - (yld + ant/2)) / ant\n",
    "        return v0 + (vf-v0) * 1 / (1 + np.exp(- aNewTime))\n",
    "    \n",
    "    mRef = np.ones(aDims) * Teq\n",
    "    iIdTruck = dEvent['id']\n",
    "    fMrgTime = dEvent['tm']\n",
    "    T_0, T_X = dEvent['tg']\n",
    "    _T_0, _T_X = (T_X, T_0) if T_0 > T_X else (T_0, T_X)\n",
    "    fAntTime = anticipation_time(_T_0, _T_X)\n",
    "    fYldTime = fMrgTime - fAntTime\n",
    "    \n",
    "    mRef[:,iIdTruck] = get_sigmoid(T_0, T_X, fYldTime, fAntTime)        \n",
    "    \n",
    "    print(f'Anticipation time: {fAntTime}')\n",
    "    print(f'Yielding time: {fYldTime}')\n",
    "    \n",
    "    return mRef"
   ]
  },
  {
   "cell_type": "code",
   "execution_count": 19,
   "metadata": {},
   "outputs": [
    {
     "name": "stdout",
     "output_type": "stream",
     "text": [
      "Anticipation time: 25.57142857142857\n",
      "Yielding time: 154.42857142857144\n"
     ]
    }
   ],
   "source": [
    "# %%writefile -a control.py\n",
    "\n",
    "mRef = create_ref(mEvents[-1], G_T)"
   ]
  },
  {
   "cell_type": "markdown",
   "metadata": {},
   "source": [
    "### Control design \n",
    "\n",
    "Control parameters"
   ]
  },
  {
   "cell_type": "code",
   "execution_count": null,
   "metadata": {},
   "outputs": [],
   "source": [
    "# %%writefile -a control.py \n",
    "\n",
    "C1 = 0.1\n",
    "C2 = 1\n",
    "C3 = 0.5"
   ]
  },
  {
   "cell_type": "markdown",
   "metadata": {},
   "source": [
    "Internal functions for the control "
   ]
  },
  {
   "cell_type": "code",
   "execution_count": null,
   "metadata": {},
   "outputs": [],
   "source": [
    "# %%writefile -a control.py \n",
    "\n",
    "def initialize_mpc(mS0, mV0, mDV0):\n",
    "    \"\"\" Initialize internal variables control\"\"\"\n",
    "    aDimMPC = (nHorizon,nTrucks)\n",
    "    m_S, m_V, m_DV, m_LS, m_LV, m_U = (np.zeros(aDimMPC) for i in range(6))\n",
    "    m_S[0] = mS0\n",
    "    m_V[0] = mV0\n",
    "    m_DV[0] = mDV0\n",
    "    return m_S, m_V, m_DV, m_LS, m_LV, m_U\n",
    "\n",
    "def update_cd(s):\n",
    "    \"\"\" Updates the drag coefficient\"\"\"\n",
    "    s[0] = L_AVG # Accounts for leader not saving\n",
    "    fCD = (1-np.exp(-2 * s/ L_AVG))/2 + 0.42\n",
    "    return fCD\n",
    "\n",
    "def update_grad_cd(s):\n",
    "    \"\"\" Updates the drag coefficient\"\"\"\n",
    "    s[0] = L_AVG # Accounts for leader not saving\n",
    "    fCD = np.exp(-2 * s/ L_AVG)/ (2 * L_AVG) \n",
    "    return fCD\n",
    "\n",
    "def forward_evolution(X, U, D):        \n",
    "    \"\"\" Compute forward model evolution\n",
    "        X : S, V, DV \n",
    "        U : control \n",
    "        D : slope\n",
    "    \"\"\"\n",
    "\n",
    "    S, V, DV = X\n",
    "    \n",
    "    cordim = lambda x: x.shape if len(x.shape)>1 else (1,x.shape[0])\n",
    "    \n",
    "    U = U.reshape(cordim(U))\n",
    "    \n",
    "    DU = np.concatenate((np.zeros((U.shape[0],1)), \n",
    "                         U[:,0:-1] + U[:,1:]), \n",
    "                        axis = 1)\n",
    "\n",
    "    run = zip(U, DU, D)\n",
    "\n",
    "    K1 = G * MU\n",
    "    K2 = G\n",
    "    K3 = RHO * A * CD / (2 * M)\n",
    "\n",
    "    for i, u in enumerate(run):\n",
    "        u_s, du, theta  = u\n",
    "        if i < len(S)-1:\n",
    "            print(du)\n",
    "            print(DV)\n",
    "            DV[i+1] = DV[i] + DT * du\n",
    "            S[i+1] = S[i] + DT * DV[i]\n",
    "            mfac = u_s - K1 - K2 * theta\\\n",
    "                   - K3 * update_cd(S[i]) * V[i]**2\n",
    "            V[i+1] = V[i] + DT * mfac\n",
    "    return S, V, DV           \n",
    "\n",
    "def backward_evolution(X, Ref):\n",
    "    \"\"\" Compute  bakckward costate evolution\n",
    "        L : LS, LV \n",
    "        X : S, V, DV\n",
    "    \"\"\"    \n",
    "    \n",
    "    def reversedEnumerate(*args):\n",
    "        \"\"\" Inverse enumeration iterator\"\"\"\n",
    "        revArg = [np.flip(x, axis=0) for x in args]\n",
    "        return zip(range(len(args[0])-1, -1, -1), *revArg)\n",
    "\n",
    "    S, V, DV = X\n",
    "    \n",
    "    aDimMPC = (nHorizon,nTrucks)\n",
    "    ls = np.zeros(aDimMPC)\n",
    "    lv = np.zeros(aDimMPC)\n",
    "    \n",
    "    runinv = reversedEnumerate(S, V, DV, Ref)\n",
    "    \n",
    "    K3 = RHO * A * CD / (2 * M)\n",
    "    \n",
    "    for i, s, v, dv, tg in runinv:\n",
    "        if i > 0:\n",
    "            sref = v * tg + L_AVG\n",
    "            lv[i-1] = lv[i] + DT * (-2 * C1 * (s-sref) * tg \\\n",
    "                                    - C2 * dv - ls[i]\\\n",
    "                                    - lv[i] * K3 * update_cd(s)\n",
    "                                   )\n",
    "            ls[i-1] = ls[i] + DT * (2 * C1 * (s-sref)\\\n",
    "                                    - lv[i] * K3 * update_grad_cd(s) * (v ** 2)\n",
    "                                   )                \n",
    "\n",
    "    return ls, lv"
   ]
  },
  {
   "cell_type": "markdown",
   "metadata": {},
   "source": [
    "Control routine"
   ]
  },
  {
   "cell_type": "code",
   "execution_count": null,
   "metadata": {},
   "outputs": [],
   "source": [
    "# %%writefile -a control.py \n",
    "\n",
    "def compute_control(mX0, mRef, mTheta):\n",
    "    \"\"\" Computes a control based on mX0 and the reference mRef\"\"\"\n",
    "    \n",
    "    _m_S, _m_V, _m_DV, _m_LS, _m_LV, m_U = initialize_mpc(*mX0)\n",
    "    _X = (_m_S, _m_V, _m_DV)\n",
    "    \n",
    "    # Parameters\n",
    "\n",
    "    ALPHA = 0.01\n",
    "    EPS = 0.1\n",
    "    \n",
    "    # Convergence\n",
    "    error = 100\n",
    "    bSuccess = 2\n",
    "    N = 10000  # number of iterations\n",
    "    \n",
    "    step = iter(range(N)) \n",
    "    n = 0\n",
    "    n_prev = 0\n",
    "    \n",
    "    while (error > EPS) and (bSuccess > 0):\n",
    "        try:\n",
    "            next(step)\n",
    "            \n",
    "            U_star = -_m_LV /(2 * C3)          \n",
    "            \n",
    "            U_star = np.clip(U_star, U_MIN, U_MAX)\n",
    "\n",
    "            _m_S, _m_V, _m_DV = forward_evolution(_X, U_star, mTheta)                         \n",
    "\n",
    "            _lS, _lV = backward_evolution(_X, mRef)\n",
    "            \n",
    "            _m_LS = (1 - ALPHA) * _m_LS + ALPHA * _lS\n",
    "            _m_LV = (1 - ALPHA) * _m_LV + ALPHA * _lV\n",
    "            \n",
    "            \n",
    "            error = np.linalg.norm(_m_LS - _lS) + \\\n",
    "                    np.linalg.norm(_m_LV - _lV)\n",
    "            \n",
    "\n",
    "            # print(f'Error:{error}')\n",
    "            # Routine for changing convergence parameter\n",
    "\n",
    "            if error > 10e5:\n",
    "                raise AssertionError('Algorithm does not converge ')\n",
    "            if n >= 500:\n",
    "                ALPHA = max(ALPHA - 0.01, 0.01)\n",
    "                print(f'Reaching {n} iterations: Reducing alpha: {ALPHA}')\n",
    "                print(f'Error before update {error}')\n",
    "                if n > 10000:\n",
    "                    raise AssertionError(\n",
    "                        'Maximum iterations reached by the algorithm')\n",
    "                n_prev = n + n_prev\n",
    "                n = 0\n",
    "            if error <= EPS:\n",
    "                bSuccess = 0\n",
    "\n",
    "            n += 1\n",
    "\n",
    "        except StopIteration:\n",
    "            print('Stop by iteration')\n",
    "            print('Last simulation step at iteration: {}'.format(n+n_prev))\n",
    "            bSuccess = 0\n",
    "\n",
    "    n = n + n_prev\n",
    "    print(f'Total it:{n}')\n",
    "    \n",
    "    return U_star[0]"
   ]
  },
  {
   "cell_type": "markdown",
   "metadata": {},
   "source": [
    "## Control test \n",
    "\n",
    "Verify the control test by launching the file `platoon-closed.py`"
   ]
  },
  {
   "cell_type": "raw",
   "metadata": {},
   "source": [
    "# %%writefile -a control.py \n",
    "\n",
    "mRefW = G_T*np.ones((nHorizon,nTrucks))\n",
    "mTheta = np.zeros(mRefW.shape)\n",
    "\n",
    "for i, x in enumerate(mRef):\n",
    "\n",
    "    if i < len(mRef)-1:\n",
    "\n",
    "        aX = (mS[i], mV[i], mDV[i])\n",
    "    \n",
    "        aU = compute_control(aX, mRefW, mTheta)\n",
    "    \n",
    "        mS[i+1], mV[i+1], mDV[i+1] = forward_evolution(aX, aU, mTheta)"
   ]
  }
 ],
 "metadata": {
  "kernelspec": {
   "display_name": "Python 3",
   "language": "python",
   "name": "python3"
  },
  "language_info": {
   "codemirror_mode": {
    "name": "ipython",
    "version": 3
   },
   "file_extension": ".py",
   "mimetype": "text/x-python",
   "name": "python",
   "nbconvert_exporter": "python",
   "pygments_lexer": "ipython3",
   "version": "3.6.5"
  }
 },
 "nbformat": 4,
 "nbformat_minor": 2
}

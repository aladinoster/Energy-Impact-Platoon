{
 "cells": [
  {
   "cell_type": "markdown",
   "metadata": {},
   "source": [
    "### Control law \n",
    "\n",
    "This notebook emulates a control laws where a set of 8 trucks are commanded to split at specific points in time. References to compute the platoon are in this case simulated not by a tactical strategy but virtually instead:\n",
    "\n",
    "0. Setup model parameters (CAV)\n",
    "1. Initial conditions for the model \n",
    "2. Reference conditions for the truck \n",
    "3. Launching the simulations for "
   ]
  },
  {
   "cell_type": "code",
   "execution_count": 1,
   "metadata": {},
   "outputs": [],
   "source": [
    "import numpy as np "
   ]
  },
  {
   "cell_type": "markdown",
   "metadata": {},
   "source": [
    "#### Parameters"
   ]
  },
  {
   "cell_type": "code",
   "execution_count": 2,
   "metadata": {},
   "outputs": [],
   "source": [
    "DT = 0.1 # Sample time \n",
    "\n",
    "L_AVG = 18.55 + 2 # Truck length\n",
    "K_MAX = 1/L_AVG # CAV max density \n",
    "\n",
    "VF = 25.0 # Speed free flow\n",
    "W = 6.25 # Congestion speed \n",
    "E  = 25.0*0.3 # Speed drop for relaxation \n",
    "\n",
    "GCAV = 1/(K_MAX*W) # Time headway CAV \n",
    "\n",
    "SCAV = VF/(K_MAX*W)+1/K_MAX #  Desired space headway CAV \n",
    "\n",
    "dVehTimeHwy = {'CAV': GCAV}\n",
    "dVehDistHwy = {'CAV': 1/K_MAX}\n",
    "\n",
    "U_MAX = 1.5 # Max. Acceleration\n",
    "U_MIN = -1.5 # Min. Acceleration"
   ]
  },
  {
   "cell_type": "code",
   "execution_count": 3,
   "metadata": {},
   "outputs": [],
   "source": [
    "fSimTime = 10 * 60 # seconds\n",
    "nSamples = int(fSimTime*1/DT)\n",
    "aTime = np.arange(nSamples)*DT"
   ]
  },
  {
   "cell_type": "markdown",
   "metadata": {},
   "source": [
    "#### Initial conditions for the trucks "
   ]
  },
  {
   "cell_type": "code",
   "execution_count": 4,
   "metadata": {},
   "outputs": [],
   "source": [
    "nTrucks = 8\n",
    "aDims = (nSamples, nTrucks)"
   ]
  },
  {
   "cell_type": "markdown",
   "metadata": {},
   "source": [
    "State initialization, space, speed, delta speed leader "
   ]
  },
  {
   "cell_type": "code",
   "execution_count": 23,
   "metadata": {},
   "outputs": [],
   "source": [
    "def set_initial_condition(fInitVal):\n",
    "    \"\"\" Setup initial conditions of experiment\"\"\"\n",
    "    mS0, mV0, mDV0 = fInitVal\n",
    "    mS = np.zeros(aDims) # Spacing all trucks\n",
    "    mV = np.zeros(aDims) # Speed \n",
    "    mDV = np.zeros(aDims) # Speed diference\n",
    "    mS[0,:] = mS0\n",
    "    mV[0,:] = mV0\n",
    "    mDV[0,:]= mDV0\n",
    "    return (mS, mV, mDV)"
   ]
  },
  {
   "cell_type": "code",
   "execution_count": 21,
   "metadata": {},
   "outputs": [],
   "source": [
    "mX0 = (np.zeros(nTrucks),\n",
    "       np.ones(nTrucks),\n",
    "       np.zeros(nTrucks),\n",
    "      )"
   ]
  },
  {
   "cell_type": "markdown",
   "metadata": {},
   "source": [
    "#### Reference conditions for trucks\n"
   ]
  },
  {
   "cell_type": "code",
   "execution_count": 15,
   "metadata": {},
   "outputs": [],
   "source": [
    "iYieldTruck = range(nTrucks)\n",
    "\n",
    "# Splits are predefined at some specific points in time (merging times)\n",
    "iIdxTimeSplit = [int(t*60*1/DT) for t in (3,6,9)]\n",
    "fTimeSplit = [aTime[i] for i in iIdxTimeSplit ]\n",
    "fValueTimeHwyInitial = [2]\n",
    "fValueTimeHwyEnd = [2]\n",
    "fValueTimeHwyEnd = [(st,ed) for st, ed in zip(fValueTimeHwyInitial,fValueTimeHwyEnd)]\n",
    "\n",
    "\n",
    "mEvents = [{'id':i, 'tm': tm, 'tg_0': tg} for i in iYieldTruck for tm in fTimeSplit for tg in fValueTimeHwy]\n",
    "\n",
    "\n",
    "mRefSpacing = 1"
   ]
  },
  {
   "cell_type": "markdown",
   "metadata": {},
   "source": [
    "To do:\n",
    "\n",
    "* Create a single scenario (ref single split) - Func\n",
    "* Create a scenario (2 splits and reintegrations)  - Func\n",
    "* Run a single simulation Func( initial_cond, leaders_acc, theta) "
   ]
  },
  {
   "cell_type": "code",
   "execution_count": null,
   "metadata": {},
   "outputs": [],
   "source": [
    "def create_ref()"
   ]
  },
  {
   "cell_type": "code",
   "execution_count": null,
   "metadata": {},
   "outputs": [],
   "source": [
    "def initalize_mpc(mS0, mV0, mDV0):\n",
    "    \"\"\" Initialize internal variables control\"\"\"\n",
    "    \n",
    "    return (m_S, m_V, m_DV, m_LS, m_DV, m_U)"
   ]
  },
  {
   "cell_type": "code",
   "execution_count": 22,
   "metadata": {},
   "outputs": [],
   "source": [
    "def compute_control(aX):\n",
    "    _m_S, _m_V, _m_DV, _m_LS, _m_LV, m_U = initialize_mpc(*aX)"
   ]
  },
  {
   "cell_type": "code",
   "execution_count": null,
   "metadata": {},
   "outputs": [],
   "source": []
  },
  {
   "cell_type": "code",
   "execution_count": null,
   "metadata": {},
   "outputs": [],
   "source": []
  }
 ],
 "metadata": {
  "kernelspec": {
   "display_name": "Python [default]",
   "language": "python",
   "name": "python3"
  },
  "language_info": {
   "codemirror_mode": {
    "name": "ipython",
    "version": 3
   },
   "file_extension": ".py",
   "mimetype": "text/x-python",
   "name": "python",
   "nbconvert_exporter": "python",
   "pygments_lexer": "ipython3",
   "version": "3.6.4"
  }
 },
 "nbformat": 4,
 "nbformat_minor": 2
}

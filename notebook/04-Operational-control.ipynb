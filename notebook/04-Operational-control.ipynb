{
 "cells": [
  {
   "cell_type": "markdown",
   "metadata": {},
   "source": [
    "### Control law \n",
    "\n",
    "This notebook emulates a control laws where a set of 8 trucks are commanded to split at specific points in time. References to compute the platoon are in this case simulated not by a tactical strategy but virtually instead:\n",
    "\n",
    "0. Setup model parameters (CAV)\n",
    "1. Initial conditions for the model \n",
    "2. Reference conditions for the truck \n",
    "3. Launching the simulations for "
   ]
  },
  {
   "cell_type": "code",
   "execution_count": 52,
   "metadata": {},
   "outputs": [
    {
     "data": {
      "text/html": [
       "<script>requirejs.config({paths: { 'plotly': ['https://cdn.plot.ly/plotly-latest.min']},});if(!window.Plotly) {{require(['plotly'],function(plotly) {window.Plotly=plotly;});}}</script>"
      ],
      "text/vnd.plotly.v1+html": [
       "<script>requirejs.config({paths: { 'plotly': ['https://cdn.plot.ly/plotly-latest.min']},});if(!window.Plotly) {{require(['plotly'],function(plotly) {window.Plotly=plotly;});}}</script>"
      ]
     },
     "metadata": {},
     "output_type": "display_data"
    }
   ],
   "source": [
    "import numpy as np \n",
    "\n",
    "# Plot \n",
    "import plotly as py \n",
    "from plotly.offline import init_notebook_mode, plot, iplot, iplot_mpl\n",
    "import plotly.graph_objs as go \n",
    "init_notebook_mode(connected=True)\n",
    "\n",
    "\n",
    "from ipywidgets import interactive, widgets\n",
    "from IPython.display import display"
   ]
  },
  {
   "cell_type": "markdown",
   "metadata": {},
   "source": [
    "#### Parameters\n",
    "\n",
    "Simulation parameters"
   ]
  },
  {
   "cell_type": "code",
   "execution_count": 53,
   "metadata": {},
   "outputs": [],
   "source": [
    "DT = 0.1 # Sample time "
   ]
  },
  {
   "cell_type": "markdown",
   "metadata": {},
   "source": [
    "Traffic parameters"
   ]
  },
  {
   "cell_type": "code",
   "execution_count": 54,
   "metadata": {},
   "outputs": [],
   "source": [
    "# Truck parameters \n",
    "L_AVG = 18\n",
    "G_X = 2\n",
    "S_X = G_X + L_AVG\n",
    "K_X = 1/S_X\n",
    "\n",
    "# Traffic \n",
    "V_F = 25.0 # Max speed.\n",
    "V_P = 20.0 # Platoon free flow\n",
    "E  = 25.0*0.3 # Speed drop for relaxation \n",
    "\n",
    "U_MAX = 1.5 # Max. Acceleration\n",
    "U_MIN = -1.5 # Min. Acceleration"
   ]
  },
  {
   "cell_type": "code",
   "execution_count": 154,
   "metadata": {},
   "outputs": [
    {
     "data": {
      "application/vnd.jupyter.widget-view+json": {
       "model_id": "f31296c091484315bce55674301c7373",
       "version_major": 2,
       "version_minor": 0
      },
      "text/plain": [
       "interactive(children=(FloatSlider(value=5.0, description='Front-rear Space gap', max=17.9, min=2.0, readout_fo…"
      ]
     },
     "metadata": {},
     "output_type": "display_data"
    }
   ],
   "source": [
    "def compute_parameters(G_X, C):\n",
    "    \"\"\" Compute dynamically parameters based on G_X,C\"\"\"\n",
    "    S_X = L_AVG + G_X \n",
    "    K_X = 1 / S_X        \n",
    "    K_C = C / V_P    \n",
    "    W  = C / (K_X - K_C)\n",
    "    return (S_X, K_X, K_C, W)\n",
    "\n",
    "\n",
    "def compute_FD(G_X, C):\n",
    "    \"\"\"Compute data for some predefined parameters \"\"\"\n",
    "    \n",
    "    def compute_FD(k):\n",
    "        \"\"\"Compute k,q vector: Piecewise FD\"\"\"\n",
    "        free_branch = lambda x: V_P * x\n",
    "        cong_branch = lambda x: - (x-K_X) * W\n",
    "        flow = np.piecewise(k, [k < K_C, k >= K_C], [free_branch, cong_branch])\n",
    "        \n",
    "        return flow    \n",
    "    \n",
    "    S_X, K_X, K_C, W  = compute_parameters(G_X, C)\n",
    "    \n",
    "    k = np.linspace(0, K_X, 100)\n",
    "    q = compute_FD(k)\n",
    "    return (k,q)\n",
    "\n",
    "def create_layout(K_X, C):\n",
    "    \"\"\" Create figure layout \"\"\"\n",
    "    layout = go.Layout(title = 'FUNDAMENTAL DIAGRAM',\n",
    "                       yaxis = dict(title = 'Q',\n",
    "                                    range = [0, C],\n",
    "                                   ),\n",
    "                       xaxis = dict(title = 'k', \n",
    "                                    range = [0, K_X],\n",
    "                                   ),\n",
    "                       width = 600, \n",
    "                       height = 600,\n",
    "                    )\n",
    "    return layout\n",
    "\n",
    "layout = create_layout(0.05, 1)\n",
    "    \n",
    "def update_plot(fr_space, capacity):\n",
    "    \"\"\" Update plot within the figure\"\"\"    \n",
    "    \n",
    "    k, q = compute_FD(fr_space, capacity/3600)\n",
    "    \n",
    "\n",
    "    \n",
    "    data = []        \n",
    "    \n",
    "    trace = go.Scatter(\n",
    "        x = k, \n",
    "        y = q,\n",
    "        mode = 'lines',\n",
    "        name = 'Fundamental diagram',\n",
    "        line = dict(\n",
    "            shape = 'spline'\n",
    "        )\n",
    "    )\n",
    "    data.append(trace)\n",
    "\n",
    "    fig = go.Figure(data = data, layout = layout)\n",
    "    iplot(fig)\n",
    "    \n",
    "\n",
    "G_X_wg = widgets.FloatSlider(\n",
    "        value=5,\n",
    "        min=2,\n",
    "        max=L_AVG-0.1,\n",
    "        step=0.1,\n",
    "        description='Front-rear Space gap',\n",
    "        disabled=False,\n",
    "        continuous_update=True,\n",
    "        orientation='horizontal',\n",
    "        readout=True,\n",
    "        readout_format='.1f',\n",
    "        )\n",
    "\n",
    "C_wg  = widgets.FloatSlider(\n",
    "        value=2500,\n",
    "        min=1800,\n",
    "        max=3600-10,\n",
    "        step=5,\n",
    "        description='Capacity',\n",
    "        disabled=False,\n",
    "        continuous_update=True,\n",
    "        orientation='horizontal',\n",
    "        readout=True,\n",
    "        readout_format='.1f',\n",
    "        )\n",
    "\n",
    "\n",
    "interactive(update_plot, fr_space = G_X_wg, capacity = C_wg)"
   ]
  },
  {
   "cell_type": "code",
   "execution_count": 172,
   "metadata": {},
   "outputs": [
    {
     "data": {
      "application/vnd.jupyter.widget-view+json": {
       "model_id": "a2bc999b3e7946a08f3ca3ed67bc0c65",
       "version_major": 2,
       "version_minor": 0
      },
      "text/plain": [
       "BoundedFloatText(value=0.2744186046511628, description='Tau:', disabled=True, max=10.0, step=0.1)"
      ]
     },
     "metadata": {},
     "output_type": "display_data"
    },
    {
     "data": {
      "application/vnd.jupyter.widget-view+json": {
       "model_id": "57ccf20742d546dc934e5e908ef96577",
       "version_major": 2,
       "version_minor": 0
      },
      "text/plain": [
       "BoundedFloatText(value=1.6744186046511629, description='Rate:', disabled=True, max=10.0, step=0.1)"
      ]
     },
     "metadata": {},
     "output_type": "display_data"
    },
    {
     "data": {
      "application/vnd.jupyter.widget-view+json": {
       "model_id": "b22d861be1114bbeabc4dfc5788179f2",
       "version_major": 2,
       "version_minor": 0
      },
      "text/plain": [
       "BoundedFloatText(value=0.5, description='T_rf:', disabled=True, max=10.0, step=0.1)"
      ]
     },
     "metadata": {},
     "output_type": "display_data"
    }
   ],
   "source": [
    "G_X, C = G_X_wg.value, C_wg.value/3600\n",
    "S_X, K_X, K_C, W  = compute_parameters(G_X, C)\n",
    "\n",
    "TAU = 1/(K_X*W) # Time headway CAV \n",
    "RTE = TAU * (V_P+W) / V_P\n",
    "G_T = G_X/V_P\n",
    "\n",
    "Tau_wg = widgets.BoundedFloatText(\n",
    "    value=TAU,\n",
    "    min=0,\n",
    "    max=10.0,\n",
    "    step=0.1,\n",
    "    description='Tau:',\n",
    "    disabled=True\n",
    ")\n",
    "Rat_wg = widgets.BoundedFloatText(\n",
    "    value=RTE,\n",
    "    min=0,\n",
    "    max=10.0,\n",
    "    step=0.1,\n",
    "    description='Rate:',\n",
    "    disabled=True\n",
    ")\n",
    "gt_wg = widgets.BoundedFloatText(\n",
    "    value=G_T,\n",
    "    min=0,\n",
    "    max=10.0,\n",
    "    step=0.1,\n",
    "    description='T_rf:',\n",
    "    disabled=True\n",
    ")\n",
    "\n",
    "\n",
    "display(Tau_wg)\n",
    "display(Rat_wg)\n",
    "display(gt_wg)"
   ]
  },
  {
   "cell_type": "code",
   "execution_count": 168,
   "metadata": {},
   "outputs": [],
   "source": [
    "fSimTime = 10 * 60 # seconds\n",
    "nSamples = int(fSimTime*1/DT)\n",
    "aTime = np.arange(nSamples)*DT"
   ]
  },
  {
   "cell_type": "markdown",
   "metadata": {},
   "source": [
    "#### Initial conditions for the trucks "
   ]
  },
  {
   "cell_type": "code",
   "execution_count": 169,
   "metadata": {},
   "outputs": [],
   "source": [
    "nTrucks = 8\n",
    "aDims = (nSamples, nTrucks)"
   ]
  },
  {
   "cell_type": "markdown",
   "metadata": {},
   "source": [
    "State initialization, space, speed, delta speed leader "
   ]
  },
  {
   "cell_type": "code",
   "execution_count": 158,
   "metadata": {},
   "outputs": [],
   "source": [
    "def set_initial_condition(mS0, mV0, mDV0):\n",
    "    \"\"\" Setup initial conditions of experiment\"\"\"\n",
    "    mS = np.zeros(aDims) # Spacing all trucks\n",
    "    mV = np.zeros(aDims) # Speed \n",
    "    mDV = np.zeros(aDims) # Speed diference\n",
    "    mS[0,:] = mS0\n",
    "    mV[0,:] = mV0\n",
    "    mDV[0,:]= mDV0\n",
    "    return (mS, mV, mDV)"
   ]
  },
  {
   "cell_type": "code",
   "execution_count": 159,
   "metadata": {},
   "outputs": [],
   "source": [
    "mS0 = np.ones(nTrucks) * S_X\n",
    "mV0 = np.ones(nTrucks) * V_P\n",
    "mDV0 = np.zeros(nTrucks)\n",
    "\n",
    "mS, mV, mDV = set_initial_condition(mS0, mV0, mDV0)"
   ]
  },
  {
   "cell_type": "markdown",
   "metadata": {},
   "source": [
    "#### Reference conditions for trucks\n"
   ]
  },
  {
   "cell_type": "code",
   "execution_count": 212,
   "metadata": {},
   "outputs": [],
   "source": [
    "iYieldTruck = range(nTrucks)\n",
    "\n",
    "# Splits are predefined at some specific points in time (merging times)\n",
    "iIdxTimeSplit = [int(t*60*1/DT) for t in (3,6,9)]\n",
    "fTimeSplit = [aTime[i] for i in iIdxTimeSplit ]\n",
    "fValueTimeHwyInitial = [0.9,0.9]\n",
    "fValueTimeHwyEnd = [1.8,0]\n",
    "fValueTimeHwy = [(st,ed) for st, ed in zip(fValueTimeHwyInitial,fValueTimeHwyEnd)]\n",
    "\n",
    "\n",
    "mEvents = [{'id':i, 'tm': tm, 'tg': tg} for i in iYieldTruck for tm in fTimeSplit for tg in fValueTimeHwy]\n",
    "\n",
    "\n",
    "mRefSpacing = 1"
   ]
  },
  {
   "cell_type": "markdown",
   "metadata": {},
   "source": [
    "To do:\n",
    "\n",
    "* Create a single scenario (ref single split) - Func\n",
    "* Create a scenario (2 splits and reintegrations)  - Func\n",
    "* Run a single simulation Func( initial_cond, leaders_acc, theta) "
   ]
  },
  {
   "cell_type": "code",
   "execution_count": 210,
   "metadata": {},
   "outputs": [],
   "source": [
    "def create_ref(dEvent, Teq):\n",
    "    \"\"\"Creates a reference matrix for the control\"\"\"\n",
    "    \n",
    "    def anticipation_time(T_0, T_F):\n",
    "        \"\"\"Computes the anticipation time according to TRB 2018\"\"\"\n",
    "        T_a = E / 2 * (U_MIN-U_MAX)/ (U_MIN * U_MAX) + (V_P + W) / E * (T_F - T_0)\n",
    "        return T_a    \n",
    "    \n",
    "    def get_sigmoid(v0, vf, yld, ant):\n",
    "        \"\"\" Computes a sigmoid function with rise time equivalent to anticipation time\"\"\"\n",
    "        aNewTime = 8 * (aTime - (yld + ant/2)) / ant\n",
    "        return v0 + (vf-v0) * 1 / (1 + np.exp(- aNewTime))\n",
    "    \n",
    "    mRef = np.ones(aDims) * Teq\n",
    "    iIdTruck = dEvent['id']\n",
    "    fMrgTime = dEvent['tm']\n",
    "    T_0, T_X = dEvent['tg']\n",
    "    _T_0, _T_X = (T_X, T_0) if T_0 > T_X else (T_0, T_X)\n",
    "    fAntTime = anticipation_time(_T_0, _T_X)\n",
    "    fYldTime = fMrgTime - fAntTime\n",
    "    \n",
    "    mRef[:,iIdTruck] = get_sigmoid(T_0, T_X, fYldTime, fAntTime)        \n",
    "    \n",
    "    print(f'Anticipation time: {fAntTime}')\n",
    "    print(f'Yielding time: {fYldTime}')\n",
    "    \n",
    "    return mRef"
   ]
  },
  {
   "cell_type": "code",
   "execution_count": 162,
   "metadata": {},
   "outputs": [],
   "source": [
    "def initalize_mpc(mS0, mV0, mDV0):\n",
    "    \"\"\" Initialize internal variables control\"\"\"\n",
    "    \n",
    "    return (m_S, m_V, m_DV, m_LS, m_DV, m_U)"
   ]
  },
  {
   "cell_type": "code",
   "execution_count": 163,
   "metadata": {},
   "outputs": [],
   "source": [
    "def compute_control(aX):\n",
    "    _m_S, _m_V, _m_DV, _m_LS, _m_LV, m_U = initialize_mpc(*aX)"
   ]
  },
  {
   "cell_type": "code",
   "execution_count": 164,
   "metadata": {},
   "outputs": [],
   "source": [
    "def update_cd(mS):\n",
    "    \"\"\" Update drag coefficient\"\"\"\n",
    "    _Cd_max = 1.55\n",
    "    \n",
    "    return "
   ]
  },
  {
   "cell_type": "markdown",
   "metadata": {},
   "source": [
    "Test zone"
   ]
  },
  {
   "cell_type": "code",
   "execution_count": null,
   "metadata": {},
   "outputs": [],
   "source": [
    "x = pd.DataFrame(create_ref(mEvents[0],0.9), index = aTime)\n",
    "x.plot()\n",
    "plt.xlim((150, 180))"
   ]
  }
 ],
 "metadata": {
  "kernelspec": {
   "display_name": "Python 3",
   "language": "python",
   "name": "python3"
  },
  "language_info": {
   "codemirror_mode": {
    "name": "ipython",
    "version": 3
   },
   "file_extension": ".py",
   "mimetype": "text/x-python",
   "name": "python",
   "nbconvert_exporter": "python",
   "pygments_lexer": "ipython3",
   "version": "3.6.5"
  }
 },
 "nbformat": 4,
 "nbformat_minor": 2
}

{
 "cells": [
  {
   "cell_type": "markdown",
   "metadata": {},
   "source": [
    "### Control law \n",
    "\n",
    "This notebook emulates a control laws where a set of 8 trucks are commanded to split at specific points in time. References to compute the platoon are in this case simulated not by a tactical strategy but virtually instead:\n",
    "\n",
    "0. Setup model parameters (CAV)\n",
    "1. Initial conditions for the model \n",
    "2. Reference conditions for the truck \n",
    "3. Launching the simulations for "
   ]
  },
  {
   "cell_type": "code",
   "execution_count": 18,
   "metadata": {},
   "outputs": [
    {
     "data": {
      "text/html": [
       "<script>requirejs.config({paths: { 'plotly': ['https://cdn.plot.ly/plotly-latest.min']},});if(!window.Plotly) {{require(['plotly'],function(plotly) {window.Plotly=plotly;});}}</script>"
      ],
      "text/vnd.plotly.v1+html": [
       "<script>requirejs.config({paths: { 'plotly': ['https://cdn.plot.ly/plotly-latest.min']},});if(!window.Plotly) {{require(['plotly'],function(plotly) {window.Plotly=plotly;});}}</script>"
      ]
     },
     "metadata": {},
     "output_type": "display_data"
    }
   ],
   "source": [
    "import numpy as np \n",
    "import pandas as pd \n",
    "\n",
    "# Plot \n",
    "import matplotlib.pyplot as plt \n",
    "\n",
    "import plotly as py \n",
    "from plotly.offline import init_notebook_mode, plot, iplot, iplot_mpl\n",
    "import plotly.graph_objs as go \n",
    "init_notebook_mode(connected=True)\n",
    "\n",
    "\n",
    "from ipywidgets import interactive, widgets\n",
    "from IPython.display import display"
   ]
  },
  {
   "cell_type": "markdown",
   "metadata": {},
   "source": [
    "#### Parameters\n",
    "\n",
    "Simulation parameters"
   ]
  },
  {
   "cell_type": "code",
   "execution_count": 2,
   "metadata": {},
   "outputs": [],
   "source": [
    "DT = 0.1 # Sample time "
   ]
  },
  {
   "cell_type": "markdown",
   "metadata": {},
   "source": [
    "Traffic parameters"
   ]
  },
  {
   "cell_type": "code",
   "execution_count": 3,
   "metadata": {},
   "outputs": [],
   "source": [
    "# Truck parameters \n",
    "L_AVG = 18\n",
    "G_X = 2\n",
    "S_X = G_X + L_AVG\n",
    "K_X = 1/S_X\n",
    "\n",
    "# Traffic \n",
    "V_F = 25.0 # Max speed.\n",
    "V_P = 20.0 # Platoon free flow\n",
    "E  = 25.0*0.3 # Speed drop for relaxation \n",
    "\n",
    "U_MAX = 1.5 # Max. Acceleration\n",
    "U_MIN = -1.5 # Min. Acceleration"
   ]
  },
  {
   "cell_type": "code",
   "execution_count": 21,
   "metadata": {},
   "outputs": [
    {
     "data": {
      "application/vnd.jupyter.widget-view+json": {
       "model_id": "da6d8d6cf83c436180b82e02e284ead4",
       "version_major": 2,
       "version_minor": 0
      },
      "text/plain": [
       "interactive(children=(FloatSlider(value=5.0, description='Front-rear Space gap', max=17.9, min=2.0, readout_fo…"
      ]
     },
     "metadata": {},
     "output_type": "display_data"
    }
   ],
   "source": [
    "def compute_parameters(G_X, C):\n",
    "    \"\"\" Compute dynamically parameters based on G_X,C\"\"\"\n",
    "    S_X = L_AVG + G_X \n",
    "    K_X = 1 / S_X        \n",
    "    K_C = C / V_P    \n",
    "    W  = C / (K_X - K_C)\n",
    "    return (S_X, K_X, K_C, W)\n",
    "\n",
    "\n",
    "def compute_FD(G_X, C):\n",
    "    \"\"\"Compute data for some predefined parameters \"\"\"\n",
    "    \n",
    "    def compute_FD(k):\n",
    "        \"\"\"Compute k,q vector: Piecewise FD\"\"\"\n",
    "        free_branch = lambda x: V_P * x\n",
    "        cong_branch = lambda x: - (x-K_X) * W\n",
    "        flow = np.piecewise(k, [k < K_C, k >= K_C], [free_branch, cong_branch])\n",
    "        \n",
    "        return flow    \n",
    "    \n",
    "    S_X, K_X, K_C, W  = compute_parameters(G_X, C)\n",
    "    \n",
    "    k = np.linspace(0, K_X, 100)\n",
    "    q = compute_FD(k)\n",
    "    return (k,q)\n",
    "\n",
    "def create_layout(K_X, C):\n",
    "    \"\"\" Create figure layout \"\"\"\n",
    "    layout = go.Layout(title = 'FUNDAMENTAL DIAGRAM',\n",
    "                       yaxis = dict(title = 'Q',\n",
    "                                    range = [0, C],\n",
    "                                   ),\n",
    "                       xaxis = dict(title = 'k', \n",
    "                                    range = [0, K_X],\n",
    "                                   ),\n",
    "                       width = 600, \n",
    "                       height = 600,\n",
    "                    )\n",
    "    return layout\n",
    "\n",
    "layout = create_layout(0.05, 1 * 3600)\n",
    "    \n",
    "def update_plot(fr_space, capacity):\n",
    "    \"\"\" Update plot within the figure\"\"\"    \n",
    "    \n",
    "    k, q = compute_FD(fr_space, capacity/3600)\n",
    "    \n",
    "\n",
    "    \n",
    "    data = []        \n",
    "    \n",
    "    trace = go.Scatter(\n",
    "        x = k, \n",
    "        y = q * 3600,\n",
    "        mode = 'lines',\n",
    "        name = 'Fundamental diagram',\n",
    "        line = dict(\n",
    "            shape = 'spline'\n",
    "        )\n",
    "    )\n",
    "    data.append(trace)\n",
    "\n",
    "    fig = go.Figure(data = data, layout = layout)\n",
    "    iplot(fig)\n",
    "    \n",
    "\n",
    "G_X_wg = widgets.FloatSlider(\n",
    "        value=5,\n",
    "        min=2,\n",
    "        max=L_AVG-0.1,\n",
    "        step=0.1,\n",
    "        description='Front-rear Space gap',\n",
    "        disabled=False,\n",
    "        continuous_update=True,\n",
    "        orientation='horizontal',\n",
    "        readout=True,\n",
    "        readout_format='.1f',\n",
    "        )\n",
    "\n",
    "C_wg  = widgets.FloatSlider(\n",
    "        value=2500,\n",
    "        min=1800,\n",
    "        max=3600-10,\n",
    "        step=5,\n",
    "        description='Capacity',\n",
    "        disabled=False,\n",
    "        continuous_update=True,\n",
    "        orientation='horizontal',\n",
    "        readout=True,\n",
    "        readout_format='.1f',\n",
    "        )\n",
    "\n",
    "\n",
    "interactive(update_plot, fr_space = G_X_wg, capacity = C_wg)"
   ]
  },
  {
   "cell_type": "code",
   "execution_count": 22,
   "metadata": {},
   "outputs": [
    {
     "data": {
      "application/vnd.jupyter.widget-view+json": {
       "model_id": "f029153067414b129b87155100e3e79a",
       "version_major": 2,
       "version_minor": 0
      },
      "text/plain": [
       "BoundedFloatText(value=0.2899999999999999, description='Tau:', disabled=True, max=10.0, step=0.1)"
      ]
     },
     "metadata": {},
     "output_type": "display_data"
    },
    {
     "data": {
      "application/vnd.jupyter.widget-view+json": {
       "model_id": "f7fdca4d44b548cdae9e711f8521606c",
       "version_major": 2,
       "version_minor": 0
      },
      "text/plain": [
       "BoundedFloatText(value=1.44, description='Rate:', disabled=True, max=10.0, step=0.1)"
      ]
     },
     "metadata": {},
     "output_type": "display_data"
    },
    {
     "data": {
      "application/vnd.jupyter.widget-view+json": {
       "model_id": "9f5b5aed85d94884a9b3e8012992f7eb",
       "version_major": 2,
       "version_minor": 0
      },
      "text/plain": [
       "BoundedFloatText(value=0.25, description='T_rf:', disabled=True, max=10.0, step=0.1)"
      ]
     },
     "metadata": {},
     "output_type": "display_data"
    }
   ],
   "source": [
    "G_X, C = G_X_wg.value, C_wg.value/3600\n",
    "S_X, K_X, K_C, W  = compute_parameters(G_X, C)\n",
    "\n",
    "TAU = 1/(K_X*W) # Time headway CAV \n",
    "RTE = TAU * (V_P+W) / V_P\n",
    "G_T = G_X/V_P\n",
    "\n",
    "Tau_wg = widgets.BoundedFloatText(\n",
    "    value=TAU,\n",
    "    min=0,\n",
    "    max=10.0,\n",
    "    step=0.1,\n",
    "    description='Tau:',\n",
    "    disabled=True\n",
    ")\n",
    "Rat_wg = widgets.BoundedFloatText(\n",
    "    value=RTE,\n",
    "    min=0,\n",
    "    max=10.0,\n",
    "    step=0.1,\n",
    "    description='Rate:',\n",
    "    disabled=True\n",
    ")\n",
    "gt_wg = widgets.BoundedFloatText(\n",
    "    value=G_T,\n",
    "    min=0,\n",
    "    max=10.0,\n",
    "    step=0.1,\n",
    "    description='T_rf:',\n",
    "    disabled=True\n",
    ")\n",
    "\n",
    "\n",
    "display(Tau_wg)\n",
    "display(Rat_wg)\n",
    "display(gt_wg)"
   ]
  },
  {
   "cell_type": "code",
   "execution_count": 6,
   "metadata": {},
   "outputs": [],
   "source": [
    "fSimTime = 10 * 60 # seconds\n",
    "nSamples = int(fSimTime*1/DT)\n",
    "aTime = np.arange(nSamples)*DT"
   ]
  },
  {
   "cell_type": "markdown",
   "metadata": {},
   "source": [
    "#### Initial conditions for the trucks "
   ]
  },
  {
   "cell_type": "code",
   "execution_count": 7,
   "metadata": {},
   "outputs": [],
   "source": [
    "nTrucks = 8\n",
    "aDims = (nSamples, nTrucks)"
   ]
  },
  {
   "cell_type": "markdown",
   "metadata": {},
   "source": [
    "State initialization, space, speed, delta speed leader "
   ]
  },
  {
   "cell_type": "code",
   "execution_count": 61,
   "metadata": {},
   "outputs": [],
   "source": [
    "def set_initial_condition(mS0, mV0, mDV0):\n",
    "    \"\"\" Setup initial conditions of experiment\"\"\"\n",
    "    mS = np.zeros(aDims) # Spacing all trucks\n",
    "    mV = np.zeros(aDims) # Speed \n",
    "    mDV = np.zeros(aDims) # Speed diference\n",
    "    mS[0,:] = mS0\n",
    "    mV[0,:] = mV0\n",
    "    mDV[0,:]= mDV0\n",
    "    return (mS, mV, mDV)"
   ]
  },
  {
   "cell_type": "code",
   "execution_count": 62,
   "metadata": {},
   "outputs": [],
   "source": [
    "mS0 = np.ones(nTrucks) * S_X\n",
    "mV0 = np.ones(nTrucks) * V_P\n",
    "mDV0 = np.zeros(nTrucks)\n",
    "\n",
    "mS, mV, mDV = set_initial_condition(mS0, mV0, mDV0)"
   ]
  },
  {
   "cell_type": "code",
   "execution_count": 63,
   "metadata": {},
   "outputs": [],
   "source": [
    "nH = 50"
   ]
  },
  {
   "cell_type": "markdown",
   "metadata": {},
   "source": [
    "#### Reference conditions for trucks\n"
   ]
  },
  {
   "cell_type": "code",
   "execution_count": 10,
   "metadata": {},
   "outputs": [],
   "source": [
    "iYieldTruck = range(nTrucks)\n",
    "\n",
    "# Splits are predefined at some specific points in time (merging times)\n",
    "iIdxTimeSplit = [int(t*60*1/DT) for t in (3,6,9)]\n",
    "fTimeSplit = [aTime[i] for i in iIdxTimeSplit ]\n",
    "fValueTimeHwyInitial = [0.9,0.9]\n",
    "fValueTimeHwyEnd = [1.8,0]\n",
    "fValueTimeHwy = [(st,ed) for st, ed in zip(fValueTimeHwyInitial,fValueTimeHwyEnd)]\n",
    "\n",
    "\n",
    "mEvents = [{'id':i, 'tm': tm, 'tg': tg} for i in iYieldTruck for tm in fTimeSplit for tg in fValueTimeHwy]\n",
    "\n",
    "\n",
    "mRefSpacing = 1"
   ]
  },
  {
   "cell_type": "markdown",
   "metadata": {},
   "source": [
    "To do:\n",
    "\n",
    "* Create a single scenario (ref single split) - Func\n",
    "* Create a scenario (2 splits and reintegrations)  - Func\n",
    "* Run a single simulation Func( initial_cond, leaders_acc, theta) "
   ]
  },
  {
   "cell_type": "code",
   "execution_count": 11,
   "metadata": {},
   "outputs": [],
   "source": [
    "def create_ref(dEvent, Teq):\n",
    "    \"\"\"Creates a reference matrix for the control\"\"\"\n",
    "    \n",
    "    def anticipation_time(T_0, T_F):\n",
    "        \"\"\"Computes the anticipation time according to TRB 2018\"\"\"\n",
    "        T_a = E / 2 * (U_MIN-U_MAX)/ (U_MIN * U_MAX) + (V_P + W) / E * (T_F - T_0)\n",
    "        return T_a    \n",
    "    \n",
    "    def get_sigmoid(v0, vf, yld, ant):\n",
    "        \"\"\" Computes a sigmoid function with rise time equivalent to anticipation time\"\"\"\n",
    "        aNewTime = 8 * (aTime - (yld + ant/2)) / ant\n",
    "        return v0 + (vf-v0) * 1 / (1 + np.exp(- aNewTime))\n",
    "    \n",
    "    mRef = np.ones(aDims) * Teq\n",
    "    iIdTruck = dEvent['id']\n",
    "    fMrgTime = dEvent['tm']\n",
    "    T_0, T_X = dEvent['tg']\n",
    "    _T_0, _T_X = (T_X, T_0) if T_0 > T_X else (T_0, T_X)\n",
    "    fAntTime = anticipation_time(_T_0, _T_X)\n",
    "    fYldTime = fMrgTime - fAntTime\n",
    "    \n",
    "    mRef[:,iIdTruck] = get_sigmoid(T_0, T_X, fYldTime, fAntTime)        \n",
    "    \n",
    "    print(f'Anticipation time: {fAntTime}')\n",
    "    print(f'Yielding time: {fYldTime}')\n",
    "    \n",
    "    return mRef"
   ]
  },
  {
   "cell_type": "code",
   "execution_count": 80,
   "metadata": {},
   "outputs": [],
   "source": [
    "def initialize_mpc(mS0, mV0, mDV0):\n",
    "    \"\"\" Initialize internal variables control\"\"\"\n",
    "    aDimMPC = (nH,nTrucks)\n",
    "    m_S, m_V, m_DV, m_LS, m_LV, m_U = (np.zeros(aDimMPC) for i in range(6))\n",
    "    m_S[0] = mS0\n",
    "    m_V[0] = mV0\n",
    "    m_DV[0] = mDV0\n",
    "    return m_S, m_V, m_DV, m_LS, m_LV, m_U"
   ]
  },
  {
   "cell_type": "code",
   "execution_count": 82,
   "metadata": {},
   "outputs": [
    {
     "ename": "SyntaxError",
     "evalue": "unexpected EOF while parsing (<ipython-input-82-7d53037a473b>, line 47)",
     "output_type": "error",
     "traceback": [
      "\u001b[0;36m  File \u001b[0;32m\"<ipython-input-82-7d53037a473b>\"\u001b[0;36m, line \u001b[0;32m47\u001b[0m\n\u001b[0;31m    \u001b[0m\n\u001b[0m    ^\u001b[0m\n\u001b[0;31mSyntaxError\u001b[0m\u001b[0;31m:\u001b[0m unexpected EOF while parsing\n"
     ]
    }
   ],
   "source": [
    "def compute_control(mX0, mRef):\n",
    "    \"\"\" Computes a control based on mX0 and the reference mRef\"\"\"\n",
    "    \n",
    "    def forward_evolution(U):\n",
    "        \"\"\" Compute the evolution in a window of time\"\"\"\n",
    "        for i, u_s, du in zip(range(nH), U_star, DU):\n",
    "            if i < len(S)-1:\n",
    "                DV[i+1] = DV[i] + DT * du\n",
    "                S[i+1] = S[i] + DT * DV[i]\n",
    "                V[i+1] = V[i] + DT * u_s\n",
    "        return S, V, DV           \n",
    "    \n",
    "    def backward_evolution(X):\n",
    "        \"\"\" Compute the bakckward evolution\"\"\"\n",
    "        \n",
    "        return LS, LV\n",
    "        \n",
    "    \n",
    "    _m_S, _m_V, _m_DV, _m_LS, _m_LV, m_U = initialize_mpc(*mX0)\n",
    "\n",
    "    \n",
    "    # Parameters\n",
    "    C1 = 0.1\n",
    "    C2 = 1\n",
    "    C3 = 0.5\n",
    "    ALPHA = 0.01\n",
    "    EPS = 0.1\n",
    "    \n",
    "    # Convergence\n",
    "    error = 100\n",
    "    bSuccess = 2\n",
    "    N = 10000  # number of iterations\n",
    "    \n",
    "    step = iter(range(N))    \n",
    "    \n",
    "    while (error > EPS) and (bSuccess > 0):\n",
    "        try:\n",
    "            next(step)\n",
    "            U_star = -Lv/(2*C3)\n",
    "            U_star = np.clip(U_star, U_MIN, U_MAX)\n",
    "\n",
    "            DU = U_star[:, ldr_pos]-U_star[:] + U_ext\n",
    "\n",
    "            # Forward evolution\n",
    "            for i, u_s, du in zip(range(h), U_star, DU):\n",
    "                if i < len(S)-1:\n",
    "                    DV[i+1] = DV[i] + DT * du\n",
    "                    S[i+1] = S[i] + DT * DV[i]\n",
    "                    V[i+1] = V[i] + DT * u_s\n",
    "\n",
    "            Sref = V * Tgref + 1/KC\n",
    "\n",
    "    \n",
    "    "
   ]
  },
  {
   "cell_type": "code",
   "execution_count": 14,
   "metadata": {},
   "outputs": [],
   "source": [
    "def update_cd(mS):\n",
    "    \"\"\" Update drag coefficient\"\"\"\n",
    "    _Cd_max = 1.55\n",
    "    \n",
    "    return "
   ]
  },
  {
   "cell_type": "markdown",
   "metadata": {},
   "source": [
    "Test zone"
   ]
  },
  {
   "cell_type": "code",
   "execution_count": 19,
   "metadata": {},
   "outputs": [
    {
     "name": "stdout",
     "output_type": "stream",
     "text": [
      "Anticipation time: 16.917241379310347\n",
      "Yielding time: 163.08275862068965\n"
     ]
    },
    {
     "data": {
      "text/plain": [
       "(150, 180)"
      ]
     },
     "execution_count": 19,
     "metadata": {},
     "output_type": "execute_result"
    },
    {
     "data": {
      "image/png": "[encoded data removed]",
      "text/plain": [
       "<Figure size 432x288 with 1 Axes>"
      ]
     },
     "metadata": {},
     "output_type": "display_data"
    }
   ],
   "source": [
    "x = pd.DataFrame(create_ref(mEvents[0],0.9), index = aTime)\n",
    "x.plot()\n",
    "plt.xlim((150, 180))"
   ]
  },
  {
   "cell_type": "code",
   "execution_count": null,
   "metadata": {},
   "outputs": [],
   "source": []
  }
 ],
 "metadata": {
  "kernelspec": {
   "display_name": "Python 3",
   "language": "python",
   "name": "python3"
  },
  "language_info": {
   "codemirror_mode": {
    "name": "ipython",
    "version": 3
   },
   "file_extension": ".py",
   "mimetype": "text/x-python",
   "name": "python",
   "nbconvert_exporter": "python",
   "pygments_lexer": "ipython3",
   "version": "3.6.5"
  }
 },
 "nbformat": 4,
 "nbformat_minor": 2
}

{
 "cells": [
  {
   "cell_type": "markdown",
   "metadata": {},
   "source": [
    "### Rendering map \n",
    "\n",
    "For considering the map here we consider the following extensions \n",
    "\n",
    "- [ipyleaflef](https://ipyleaflet.readthedocs.io/en/latest/installation.html)\n",
    "- [gmplot](https://github.com/vgm64/gmplot)"
   ]
  },
  {
   "cell_type": "code",
   "execution_count": 1,
   "metadata": {},
   "outputs": [],
   "source": [
    "import os\n",
    "from scipy.io import loadmat\n",
    "\n",
    "import pandas as pd \n",
    "import numpy as np \n",
    "import dask.array as da \n",
    "import dask.dataframe as dd\n",
    "\n",
    "from datetime import datetime, timedelta\n",
    "\n",
    "import matplotlib.pyplot as plt \n",
    "\n",
    "# Maps\n",
    "from ipyleaflet import Marker, Map\n",
    "from gmplot import gmplot\n",
    "\n",
    "from matplotlib import rc \n",
    "\n",
    "rc('font',**{'family':'serif','serif':['Times']})\n",
    "rc('text', usetex=True)"
   ]
  },
  {
   "cell_type": "markdown",
   "metadata": {},
   "source": [
    "Loading all data"
   ]
  },
  {
   "cell_type": "code",
   "execution_count": 2,
   "metadata": {},
   "outputs": [],
   "source": [
    "data_dir_list = ('..','raw','20160316_061540_DE477VE_Description.mat')\n",
    "kernel_path = os.getcwd()\n",
    "data_dir_path = os.path.join(kernel_path,*data_dir_list)\n",
    "dct_data = loadmat(data_dir_path, matlab_compatible= True, squeeze_me = True)"
   ]
  },
  {
   "cell_type": "markdown",
   "metadata": {},
   "source": [
    "List of all posible variables"
   ]
  },
  {
   "cell_type": "code",
   "execution_count": 3,
   "metadata": {},
   "outputs": [],
   "source": [
    "varname_lst = []    \n",
    "for fld in dct_data['DAY'].dtype.fields:\n",
    "    varname_lst.append(fld)"
   ]
  },
  {
   "cell_type": "markdown",
   "metadata": {},
   "source": [
    "Extracting all position data"
   ]
  },
  {
   "cell_type": "code",
   "execution_count": 4,
   "metadata": {},
   "outputs": [],
   "source": [
    "gps_var = ['DATE_HOUR_GPS', 'LATITUDE', 'LONGITUDE','ALTITUDE','SLOPE']\n",
    "lst_gps = [data.transpose()[0].transpose() for var, data in zip(varname_lst, dct_data['DAY'][0][0]) if var in gps_var]"
   ]
  },
  {
   "cell_type": "markdown",
   "metadata": {},
   "source": [
    "Cleaning the list of values. Droping out all `nan`"
   ]
  },
  {
   "cell_type": "code",
   "execution_count": 5,
   "metadata": {},
   "outputs": [],
   "source": [
    "gps_flt = [row for row in zip(*lst_gps) if not np.isnan(row).any()]"
   ]
  },
  {
   "cell_type": "markdown",
   "metadata": {},
   "source": [
    "Transform into data frame "
   ]
  },
  {
   "cell_type": "code",
   "execution_count": 6,
   "metadata": {},
   "outputs": [],
   "source": [
    "gps_df = pd.DataFrame(gps_flt, columns = gps_var)"
   ]
  },
  {
   "cell_type": "code",
   "execution_count": 7,
   "metadata": {},
   "outputs": [],
   "source": [
    "gps_df = gps_df.drop_duplicates()"
   ]
  },
  {
   "cell_type": "markdown",
   "metadata": {},
   "source": [
    "Transform the date "
   ]
  },
  {
   "cell_type": "code",
   "execution_count": 8,
   "metadata": {},
   "outputs": [],
   "source": [
    "def transform_date(matlab_datenum):\n",
    "    \"\"\" Convert a date to datetime \"\"\"\n",
    "    python_datetime = datetime.fromordinal(int(matlab_datenum)) + timedelta(days=matlab_datenum%1) - timedelta(days = 366)\n",
    "    return python_datetime\n",
    "\n",
    "gps_df['TIME'] = gps_df['DATE_HOUR_GPS'].apply(transform_date)\n",
    "gps_df_flt = gps_df.set_index('TIME')"
   ]
  },
  {
   "cell_type": "code",
   "execution_count": 9,
   "metadata": {},
   "outputs": [
    {
     "name": "stderr",
     "output_type": "stream",
     "text": [
      "/Users/ladino/anaconda3/lib/python3.6/site-packages/matplotlib/font_manager.py:1328: UserWarning: findfont: Font family ['serif'] not found. Falling back to DejaVu Sans\n",
      "  (prop.get_family(), self.defaultFamily[fontext]))\n",
      "/Users/ladino/anaconda3/lib/python3.6/site-packages/matplotlib/font_manager.py:1328: UserWarning: findfont: Font family ['serif'] not found. Falling back to DejaVu Sans\n",
      "  (prop.get_family(), self.defaultFamily[fontext]))\n",
      "/Users/ladino/anaconda3/lib/python3.6/site-packages/matplotlib/font_manager.py:1328: UserWarning: findfont: Font family ['serif'] not found. Falling back to DejaVu Sans\n",
      "  (prop.get_family(), self.defaultFamily[fontext]))\n"
     ]
    },
    {
     "data": {
      "image/png": "[encoded data removed]",
      "text/plain": [
       "<Figure size 432x288 with 1 Axes>"
      ]
     },
     "metadata": {},
     "output_type": "display_data"
    }
   ],
   "source": [
    "gps_df_flt.plot(x='LATITUDE',y='LONGITUDE')\n",
    "ax = plt.gca()\n",
    "ax.scatter(gps_df['LATITUDE'].mean(),gps_df['LONGITUDE'].mean());"
   ]
  },
  {
   "cell_type": "markdown",
   "metadata": {},
   "source": [
    "Aggregation to reduce amount of data points "
   ]
  },
  {
   "cell_type": "code",
   "execution_count": 10,
   "metadata": {},
   "outputs": [],
   "source": [
    "gps_df_agg = gps_df_flt.resample('5Min').mean()\n",
    "gps_df_agg = gps_df_agg.dropna()"
   ]
  },
  {
   "cell_type": "markdown",
   "metadata": {},
   "source": [
    "Put markers on top of a map "
   ]
  },
  {
   "cell_type": "code",
   "execution_count": 11,
   "metadata": {},
   "outputs": [
    {
     "data": {
      "application/vnd.jupyter.widget-view+json": {
       "model_id": "f3abaa3ea2db4ed1ab759f9d273dccaf",
       "version_major": 2,
       "version_minor": 0
      },
      "text/plain": [
       "Map(basemap={'url': 'https://{s}.tile.openstreetmap.org/{z}/{x}/{y}.png', 'max_zoom': 19, 'attribution': 'Map …"
      ]
     },
     "metadata": {},
     "output_type": "display_data"
    }
   ],
   "source": [
    "center = (gps_df['LATITUDE'].mean(),gps_df['LONGITUDE'].mean())\n",
    "m = Map(center=center, zoom=8)\n",
    "\n",
    "for key, val in gps_df_agg.iterrows():\n",
    "    center = (val['LATITUDE'],val['LONGITUDE'])\n",
    "    marker = Marker(location=center, draggable=False)\n",
    "    m.add_layer(marker);\n",
    "\n",
    "m"
   ]
  },
  {
   "cell_type": "code",
   "execution_count": 12,
   "metadata": {},
   "outputs": [],
   "source": [
    "\n",
    "# Place map\n",
    "gmap = gmplot.GoogleMapPlotter(gps_df['LATITUDE'].mean(), gps_df['LONGITUDE'].mean(), zoom = 9)\n",
    "\n",
    "# Polygon\n",
    "gmap.plot(gps_df['LATITUDE'], gps_df['LONGITUDE'], 'cornflowerblue', edge_width=5)\n",
    "\n",
    "\n",
    "# Draw\n",
    "gmap.draw(\"../output/my_map.html\")"
   ]
  },
  {
   "cell_type": "markdown",
   "metadata": {},
   "source": [
    "Plot altitude "
   ]
  },
  {
   "cell_type": "code",
   "execution_count": 13,
   "metadata": {},
   "outputs": [
    {
     "name": "stderr",
     "output_type": "stream",
     "text": [
      "/Users/ladino/anaconda3/lib/python3.6/site-packages/matplotlib/font_manager.py:1328: UserWarning: findfont: Font family ['serif'] not found. Falling back to DejaVu Sans\n",
      "  (prop.get_family(), self.defaultFamily[fontext]))\n"
     ]
    },
    {
     "data": {
      "image/png": "[encoded data removed]",
      "text/plain": [
       "<Figure size 720x720 with 1 Axes>"
      ]
     },
     "metadata": {},
     "output_type": "display_data"
    }
   ],
   "source": [
    "def transform_timestamp(matlab_datenum):\n",
    "    \"\"\" Convert a date to datetime string \"\"\"\n",
    "    python_datetime = datetime.fromordinal(int(matlab_datenum)) + timedelta(days=matlab_datenum%1) - timedelta(days = 366)\n",
    "    return python_datetime.strftime('%H:%M:%S')\n",
    "\n",
    "\n",
    "gps_df_agg.plot(y='ALTITUDE', grid = True, figsize = (10,10))\n",
    "plt.xlabel(r'Time',fontsize=16);\n",
    "plt.ylabel(r'Altitude [m]',fontsize=16);\n",
    "# Recover locs \n",
    "locs, labels = plt.xticks();\n",
    "plt.xticks(locs,map(transform_timestamp,locs));\n",
    "plt.savefig('../output/height.pdf',format='pdf', bbox_inches='tight')"
   ]
  }
 ],
 "metadata": {
  "kernelspec": {
   "display_name": "Python 3",
   "language": "python",
   "name": "python3"
  },
  "language_info": {
   "codemirror_mode": {
    "name": "ipython",
    "version": 3
   },
   "file_extension": ".py",
   "mimetype": "text/x-python",
   "name": "python",
   "nbconvert_exporter": "python",
   "pygments_lexer": "ipython3",
   "version": "3.6.5"
  }
 },
 "nbformat": 4,
 "nbformat_minor": 2
}

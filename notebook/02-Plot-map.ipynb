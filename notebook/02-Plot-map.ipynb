{
 "cells": [
  {
   "cell_type": "code",
   "execution_count": 1,
   "metadata": {},
   "outputs": [
    {
     "name": "stderr",
     "output_type": "stream",
     "text": [
      "Loading required package: ggplot2\n"
     ]
    }
   ],
   "source": [
    "library(ggmap)"
   ]
  },
  {
   "cell_type": "code",
   "execution_count": 2,
   "metadata": {},
   "outputs": [
    {
     "name": "stderr",
     "output_type": "stream",
     "text": [
      "Warning message in download.file(url, destfile = tmp, quiet = !messaging, mode = \"wb\"):\n",
      "“URL 'http://maps.googleapis.com/maps/api/staticmap?center=Berlin,+Germany&zoom=3&size=640x640&scale=2&maptype=terrain&language=en-EN&sensor=false': status was 'Failure when receiving data from the peer'”"
     ]
    },
    {
     "ename": "ERROR",
     "evalue": "Error in download.file(url, destfile = tmp, quiet = !messaging, mode = \"wb\"): cannot open URL 'http://maps.googleapis.com/maps/api/staticmap?center=Berlin,+Germany&zoom=3&size=640x640&scale=2&maptype=terrain&language=en-EN&sensor=false'\n",
     "execution_count": 2,
     "output_type": "error",
     "traceback": [
      "Error in download.file(url, destfile = tmp, quiet = !messaging, mode = \"wb\"): cannot open URL 'http://maps.googleapis.com/maps/api/staticmap?center=Berlin,+Germany&zoom=3&size=640x640&scale=2&maptype=terrain&language=en-EN&sensor=false'\nTraceback:\n",
      "1. get_map(location = \"Berlin, Germany\", zoom = 3)",
      "2. get_googlemap(center = location, zoom = zoom, maptype = maptype, \n .     scale = scale, messaging = messaging, urlonly = urlonly, \n .     force = force, filename = filename, color = color, language = language)",
      "3. download.file(url, destfile = tmp, quiet = !messaging, mode = \"wb\")"
     ]
    }
   ],
   "source": [
    "def_03 <- get_map(location = \"Berlin, Germany\", zoom = 3) \n",
    "ggmap(def_03, extent = \"device\")"
   ]
  },
  {
   "cell_type": "code",
   "execution_count": null,
   "metadata": {},
   "outputs": [],
   "source": []
  }
 ],
 "metadata": {
  "kernelspec": {
   "display_name": "Python [default]",
   "language": "python",
   "name": "python3"
  },
  "language_info": {
   "codemirror_mode": {
    "name": "ipython",
    "version": 3
   },
   "file_extension": ".py",
   "mimetype": "text/x-python",
   "name": "python",
   "nbconvert_exporter": "python",
   "pygments_lexer": "ipython3",
   "version": "3.6.4"
  }
 },
 "nbformat": 4,
 "nbformat_minor": 2
}
